{
 "cells": [
  {
   "cell_type": "code",
   "execution_count": 1,
   "id": "73907954",
   "metadata": {},
   "outputs": [],
   "source": [
    "from pypdf import PdfReader\n",
    "import os\n",
    "import torch.nn.functional as F\n",
    "from torch import Tensor\n",
    "from transformers import AutoTokenizer, AutoModel, AutoModelForCausalLM, AutoModelForSeq2SeqLM\n",
    "import numpy as np\n",
    "import matplotlib.pyplot as plt\n",
    "import torch\n",
    "import torch.nn.functional as F\n",
    "from Agent import Agent\n",
    "import re\n",
    "import faiss\n",
    "from tqdm import tqdm\n",
    "import pickle as pkl"
   ]
  },
  {
   "cell_type": "code",
   "execution_count": 2,
   "id": "6747f87c",
   "metadata": {},
   "outputs": [],
   "source": [
    "\n",
    "@torch.no_grad()\n",
    "def average_pool(last_hidden_states: Tensor,\n",
    "                 attention_mask: Tensor) -> Tensor:\n",
    "    last_hidden = last_hidden_states.masked_fill(~attention_mask[..., None].bool(), 0.0)\n",
    "    return last_hidden.sum(dim=1) / attention_mask.sum(dim=1)[..., None]\n",
    "\n",
    "\n",
    "tokenizer = AutoTokenizer.from_pretrained('intfloat/e5-base-v2')\n",
    "embeddings_model = AutoModel.from_pretrained('intfloat/e5-base-v2')\n",
    "device = 'cuda' if torch.cuda.is_available() else 'cpu'\n",
    "embeddings_model.to(device)\n",
    "embeddings_model.eval()\n",
    "pass\n",
    "\n",
    "# for 'intfloat/e5-base-v2'\n",
    "# Each input text should start with \"query: \" or \"passage: \".\n",
    "# For tasks other than retrieval, you can simply use the \"query: \" prefix.\n"
   ]
  },
  {
   "cell_type": "code",
   "execution_count": 3,
   "id": "c1128202",
   "metadata": {},
   "outputs": [],
   "source": [
    "@torch.no_grad()\n",
    "def get_embeddings(texts):\n",
    "    # Tokenize the input texts\n",
    "    batch_dict = tokenizer(texts, max_length=512, padding=True, truncation=True, return_tensors='pt').to(device)\n",
    "\n",
    "    outputs = embeddings_model(**batch_dict)\n",
    "    embeddings = average_pool(outputs.last_hidden_state, batch_dict['attention_mask']).to('cpu')\n",
    "\n",
    "    # (Optionally) normalize embeddings\n",
    "    embeddings = F.normalize(embeddings)\n",
    "    return embeddings.numpy()"
   ]
  },
  {
   "cell_type": "code",
   "execution_count": 4,
   "id": "7231d427",
   "metadata": {},
   "outputs": [],
   "source": [
    "class Chuncker:\n",
    "    def __init__(self, chunck_size=3, chunk_overlap=1):\n",
    "        #chunk_size is in words (after .split())\n",
    "        self.chunck_size = chunck_size\n",
    "        self.chunk_overlap = chunk_overlap\n",
    "    def get_chunks(self, text):\n",
    "        all_words = text.split('.')\n",
    "        chunks = []\n",
    "        for i in range(0, len(all_words), self.chunck_size - self.chunk_overlap):\n",
    "            chunks.append('passage: ' + ' '.join(all_words[i:i+self.chunck_size]))\n",
    "        return chunks\n",
    "\n",
    "chunker = Chuncker()"
   ]
  },
  {
   "cell_type": "code",
   "execution_count": 5,
   "id": "f3e880ef",
   "metadata": {},
   "outputs": [],
   "source": [
    "index = faiss.IndexFlatL2(embeddings_model.config.hidden_size) "
   ]
  },
  {
   "cell_type": "code",
   "execution_count": 8,
   "id": "19589c05",
   "metadata": {},
   "outputs": [
    {
     "data": {
      "text/plain": [
       "['186222.pdf',\n",
       " '186864.pdf',\n",
       " '188433.pdf',\n",
       " '189246.pdf',\n",
       " '190815.pdf',\n",
       " '191149.pdf',\n",
       " '191394.pdf',\n",
       " '195079.pdf',\n",
       " '195827.pdf',\n",
       " '196467.pdf',\n",
       " '198823.pdf',\n",
       " '198993.pdf',\n",
       " '199250.pdf',\n",
       " '201846.pdf',\n",
       " '203707.pdf',\n",
       " '204801.pdf',\n",
       " '205399.pdf',\n",
       " '205617-1.pdf',\n",
       " '205618-1.pdf',\n",
       " '206050.pdf',\n",
       " '206060.pdf',\n",
       " '206107-1.pdf',\n",
       " '206384.pdf',\n",
       " '206990.pdf',\n",
       " '207547-1.pdf',\n",
       " '207570.pdf',\n",
       " '207629.pdf',\n",
       " '207732.pdf',\n",
       " '208414.pdf',\n",
       " '208804.pdf',\n",
       " '209378-1.pdf',\n",
       " '209598.pdf']"
      ]
     },
     "execution_count": 8,
     "metadata": {},
     "output_type": "execute_result"
    }
   ],
   "source": [
    "path = 'systems/'\n",
    "pdf_files = [x for x in os.listdir(path) if 'pdf' in x]\n",
    "pdf_files"
   ]
  },
  {
   "cell_type": "code",
   "execution_count": 9,
   "id": "c44c61ad",
   "metadata": {},
   "outputs": [
    {
     "name": "stderr",
     "output_type": "stream",
     "text": [
      "100%|██████████| 32/32 [00:56<00:00,  1.75s/it]\n"
     ]
    }
   ],
   "source": [
    "text_info = []\n",
    "\n",
    "for file in tqdm(pdf_files):\n",
    "    reader = PdfReader(path+file)\n",
    "    text = \"\"\n",
    "    for page in reader.pages:\n",
    "        p_text = page.extract_text()\n",
    "        # Merge hyphenated words\n",
    "        p_text = re.sub(r\"(\\w+)-\\n(\\w+)\", r\"\\1\\2\", p_text)\n",
    "        # Fix newlines in the middle of sentences\n",
    "        p_text = re.sub(r\"(?<!\\n\\s)\\n(?!\\s\\n)\", \" \", p_text.strip())\n",
    "        # Remove multiple newlines\n",
    "        p_text = re.sub(r\"\\n\\s*\\n\", \"\\n\\n\", p_text)\n",
    "        text += p_text\n",
    "\n",
    "\n",
    "    text_chunks = chunker.get_chunks(text)\n",
    "    text_info.extend([(file, x) for x in text_chunks])\n",
    "    text_embeddings = np.array([get_embeddings([x]) for x in text_chunks]).reshape(len(text_chunks), -1)\n",
    "    index.add(text_embeddings)"
   ]
  },
  {
   "cell_type": "code",
   "execution_count": 10,
   "id": "dc5927ef",
   "metadata": {},
   "outputs": [],
   "source": [
    "faiss.write_index(index, 'systems.index')"
   ]
  },
  {
   "cell_type": "code",
   "execution_count": 11,
   "id": "ad8a3124",
   "metadata": {},
   "outputs": [],
   "source": [
    "pkl.dump(text_info, open('systems_text_info.pkl','wb'))"
   ]
  },
  {
   "cell_type": "code",
   "execution_count": null,
   "id": "4cd3c380",
   "metadata": {},
   "outputs": [],
   "source": []
  }
 ],
 "metadata": {
  "kernelspec": {
   "display_name": "Python 3",
   "language": "python",
   "name": "python3"
  },
  "language_info": {
   "codemirror_mode": {
    "name": "ipython",
    "version": 3
   },
   "file_extension": ".py",
   "mimetype": "text/x-python",
   "name": "python",
   "nbconvert_exporter": "python",
   "pygments_lexer": "ipython3",
   "version": "3.8.10"
  }
 },
 "nbformat": 4,
 "nbformat_minor": 5
}
