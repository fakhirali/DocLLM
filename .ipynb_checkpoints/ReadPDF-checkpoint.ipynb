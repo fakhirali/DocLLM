{
 "cells": [
  {
   "cell_type": "code",
   "execution_count": 31,
   "id": "7d6c659e",
   "metadata": {},
   "outputs": [],
   "source": [
    "from PyPDF2 import PdfReader\n",
    "import os\n",
    "import pdfplumber"
   ]
  },
  {
   "cell_type": "code",
   "execution_count": 3,
   "id": "e89c2a33",
   "metadata": {},
   "outputs": [
    {
     "data": {
      "text/plain": [
       "['1409.0473.pdf',\n",
       " '1706.03762.pdf',\n",
       " '1810.04805.pdf',\n",
       " '1910.13461.pdf',\n",
       " '2203.15556.pdf',\n",
       " '2205.14135.pdf',\n",
       " '2212.14034.pdf',\n",
       " '2303.15647.pdf',\n",
       " 'language_understanding_paper.pdf']"
      ]
     },
     "execution_count": 3,
     "metadata": {},
     "output_type": "execute_result"
    }
   ],
   "source": [
    "path = 'ai_papers/'\n",
    "pdf_files = [x for x in os.listdir(path) if 'pdf' in x]\n",
    "pdf_files"
   ]
  },
  {
   "cell_type": "code",
   "execution_count": 13,
   "id": "df849e53",
   "metadata": {},
   "outputs": [],
   "source": [
    "reader = PdfReader(path + pdf_files[0])"
   ]
  },
  {
   "cell_type": "code",
   "execution_count": 14,
   "id": "a2bfd94a",
   "metadata": {},
   "outputs": [
    {
     "data": {
      "text/plain": [
       "{}"
      ]
     },
     "execution_count": 14,
     "metadata": {},
     "output_type": "execute_result"
    }
   ],
   "source": [
    "reader.get_form_text_fields()"
   ]
  },
  {
   "cell_type": "code",
   "execution_count": 25,
   "id": "bbf4f384",
   "metadata": {},
   "outputs": [],
   "source": [
    "page = reader.pages[0]"
   ]
  },
  {
   "cell_type": "code",
   "execution_count": 29,
   "id": "adb38925",
   "metadata": {},
   "outputs": [],
   "source": [
    "iobj = page.get_contents()[1]"
   ]
  },
  {
   "cell_type": "code",
   "execution_count": 30,
   "id": "6edab861",
   "metadata": {},
   "outputs": [
    {
     "data": {
      "text/plain": [
       "{'/Filter': '/FlateDecode'}"
      ]
     },
     "execution_count": 30,
     "metadata": {},
     "output_type": "execute_result"
    }
   ],
   "source": [
    "iobj.get_object()"
   ]
  },
  {
   "cell_type": "code",
   "execution_count": 34,
   "id": "6940ceeb",
   "metadata": {},
   "outputs": [
    {
     "name": "stdout",
     "output_type": "stream",
     "text": [
      "Published as a conference paper at ICLR 2015\n",
      "NEURAL MACHINE TRANSLATION\n",
      "BYJOINTLY LEARNING TO ALIGN AND TRANSLATE\n",
      "Dzmitry Bahdanau\n",
      "Jacobs University Bremen, Germany\n",
      "KyungHyun Cho Yoshua Bengio\u0003\n",
      "Universit ´e de Montr ´eal\n",
      "ABSTRACT\n",
      "Neural machine translation is a recently proposed approach to machine transla-\n",
      "tion. Unlike the traditional statistical machine translation, the neural machine\n",
      "translation aims at building a single neural network that can be jointly tuned to\n",
      "maximize the translation performance. The models proposed recently for neu-\n",
      "ral machine translation often belong to a family of encoder–decoders and encode\n",
      "a source sentence into a ﬁxed-length vector from which a decoder generates a\n",
      "translation. In this paper, we conjecture that the use of a ﬁxed-length vector is a\n",
      "bottleneck in improving the performance of this basic encoder–decoder architec-\n",
      "ture, and propose to extend this by allowing a model to automatically (soft-)search\n",
      "for parts of a source sentence that are relevant to predicting a target word, without\n",
      "having to form these parts as a hard segment explicitly. With this new approach,\n",
      "we achieve a translation performance comparable to the existing state-of-the-art\n",
      "phrase-based system on the task of English-to-French translation. Furthermore,\n",
      "qualitative analysis reveals that the (soft-)alignments found by the model agree\n",
      "well with our intuition.\n",
      "1 I NTRODUCTION\n",
      "Neural machine translation is a newly emerging approach to machine translation, recently proposed\n",
      "by Kalchbrenner and Blunsom (2013), Sutskever et al. (2014) and Cho et al. (2014b). Unlike the\n",
      "traditional phrase-based translation system (see, e.g., Koehn et al. , 2003) which consists of many\n",
      "small sub-components that are tuned separately, neural machine translation attempts to build and\n",
      "train a single, large neural network that reads a sentence and outputs a correct translation.\n",
      "Most of the proposed neural machine translation models belong to a family of encoder–\n",
      "decoders (Sutskever et al. , 2014; Cho et al. , 2014a), with an encoder and a decoder for each lan-\n",
      "guage, or involve a language-speciﬁc encoder applied to each sentence whose outputs are then com-\n",
      "pared (Hermann and Blunsom, 2014). An encoder neural network reads and encodes a source sen-\n",
      "tence into a ﬁxed-length vector. A decoder then outputs a translation from the encoded vector. The\n",
      "whole encoder–decoder system, which consists of the encoder and the decoder for a language pair,\n",
      "is jointly trained to maximize the probability of a correct translation given a source sentence.\n",
      "A potential issue with this encoder–decoder approach is that a neural network needs to be able to\n",
      "compress all the necessary information of a source sentence into a ﬁxed-length vector. This may\n",
      "make it difﬁcult for the neural network to cope with long sentences, especially those that are longer\n",
      "than the sentences in the training corpus. Cho et al. (2014b) showed that indeed the performance of\n",
      "a basic encoder–decoder deteriorates rapidly as the length of an input sentence increases.\n",
      "In order to address this issue, we introduce an extension to the encoder–decoder model which learns\n",
      "to align and translate jointly. Each time the proposed model generates a word in a translation, it\n",
      "(soft-)searches for a set of positions in a source sentence where the most relevant information is\n",
      "concentrated. The model then predicts a target word based on the context vectors associated with\n",
      "these source positions and all the previous generated target words.\n",
      "\u0003CIFAR Senior Fellow\n",
      "1arXiv:1409.0473v7  [cs.CL]  19 May 2016\n"
     ]
    }
   ],
   "source": [
    "print(page.extract_text())"
   ]
  },
  {
   "cell_type": "code",
   "execution_count": 32,
   "id": "74c79140",
   "metadata": {},
   "outputs": [
    {
     "name": "stdout",
     "output_type": "stream",
     "text": [
      "PublishedasaconferencepaperatICLR2015\n",
      "NEURAL MACHINE TRANSLATION\n",
      "BY JOINTLY LEARNING TO ALIGN AND TRANSLATE\n",
      "DzmitryBahdanau\n",
      "JacobsUniversityBremen,Germany\n",
      "KyungHyunCho YoshuaBengio∗\n",
      "Universite´ deMontre´al\n",
      "6102\n",
      "ABSTRACT\n",
      "Neural machine translation is a recently proposed approach to machine transla-\n",
      "yaM\n",
      "tion. Unlike the traditional statistical machine translation, the neural machine\n",
      "translation aims at building a single neural network that can be jointly tuned to\n",
      "maximize the translation performance. The models proposed recently for neu-\n",
      "ralmachinetranslationoftenbelongtoafamilyofencoder–decodersandencode\n",
      "91\n",
      "a source sentence into a fixed-length vector from which a decoder generates a\n",
      "translation. Inthispaper, weconjecturethattheuseofafixed-lengthvectorisa\n",
      "]LC.sc[ bottleneckinimprovingtheperformanceofthisbasicencoder–decoderarchitec-\n",
      "ture,andproposetoextendthisbyallowingamodeltoautomatically(soft-)search\n",
      "forpartsofasourcesentencethatarerelevanttopredictingatargetword,without\n",
      "havingtoformthesepartsasahardsegmentexplicitly. Withthisnewapproach,\n",
      "we achieve a translation performance comparable to the existing state-of-the-art\n",
      "phrase-based system on the task of English-to-French translation. Furthermore,\n",
      "qualitative analysis reveals that the (soft-)alignments found by the model agree\n",
      "7v3740.9041:viXra\n",
      "wellwithourintuition.\n",
      "1 INTRODUCTION\n",
      "Neuralmachinetranslationisanewlyemergingapproachtomachinetranslation,recentlyproposed\n",
      "by Kalchbrenner and Blunsom (2013), Sutskever et al. (2014) and Cho et al. (2014b). Unlike the\n",
      "traditional phrase-based translation system (see, e.g., Koehn et al., 2003) which consists of many\n",
      "small sub-components that are tuned separately, neural machine translation attempts to build and\n",
      "trainasingle,largeneuralnetworkthatreadsasentenceandoutputsacorrecttranslation.\n",
      "Most of the proposed neural machine translation models belong to a family of encoder–\n",
      "decoders (Sutskever et al., 2014; Cho et al., 2014a), with an encoder and a decoder for each lan-\n",
      "guage,orinvolvealanguage-specificencoderappliedtoeachsentencewhoseoutputsarethencom-\n",
      "pared(HermannandBlunsom,2014). Anencoderneuralnetworkreadsandencodesasourcesen-\n",
      "tenceintoafixed-lengthvector. Adecoderthenoutputsatranslationfromtheencodedvector. The\n",
      "wholeencoder–decodersystem,whichconsistsoftheencoderandthedecoderforalanguagepair,\n",
      "isjointlytrainedtomaximizetheprobabilityofacorrecttranslationgivenasourcesentence.\n",
      "A potential issue with this encoder–decoder approach is that a neural network needs to be able to\n",
      "compress all the necessary information of a source sentence into a fixed-length vector. This may\n",
      "makeitdifficultfortheneuralnetworktocopewithlongsentences,especiallythosethatarelonger\n",
      "thanthesentencesinthetrainingcorpus. Choetal.(2014b)showedthatindeedtheperformanceof\n",
      "abasicencoder–decoderdeterioratesrapidlyasthelengthofaninputsentenceincreases.\n",
      "Inordertoaddressthisissue,weintroduceanextensiontotheencoder–decodermodelwhichlearns\n",
      "to align and translate jointly. Each time the proposed model generates a word in a translation, it\n",
      "(soft-)searches for a set of positions in a source sentence where the most relevant information is\n",
      "concentrated. The model then predicts a target word based on the context vectors associated with\n",
      "thesesourcepositionsandallthepreviousgeneratedtargetwords.\n",
      "∗CIFARSeniorFellow\n",
      "1\n"
     ]
    }
   ],
   "source": [
    "with pdfplumber.open(path + pdf_files[0]) as pdf:\n",
    "    first_page = pdf.pages[0]\n",
    "    print(first_page.extract_text())"
   ]
  },
  {
   "cell_type": "code",
   "execution_count": null,
   "id": "06fedf22",
   "metadata": {},
   "outputs": [],
   "source": []
  }
 ],
 "metadata": {
  "kernelspec": {
   "display_name": "Python 3",
   "language": "python",
   "name": "python3"
  },
  "language_info": {
   "codemirror_mode": {
    "name": "ipython",
    "version": 3
   },
   "file_extension": ".py",
   "mimetype": "text/x-python",
   "name": "python",
   "nbconvert_exporter": "python",
   "pygments_lexer": "ipython3",
   "version": "3.8.10"
  }
 },
 "nbformat": 4,
 "nbformat_minor": 5
}
